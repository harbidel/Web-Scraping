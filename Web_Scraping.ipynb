{
  "nbformat": 4,
  "nbformat_minor": 0,
  "metadata": {
    "colab": {
      "provenance": [],
      "authorship_tag": "ABX9TyNCEvdcSsVMqvyliYU79lhm",
      "include_colab_link": true
    },
    "kernelspec": {
      "name": "python3",
      "display_name": "Python 3"
    },
    "language_info": {
      "name": "python"
    }
  },
  "cells": [
    {
      "cell_type": "markdown",
      "metadata": {
        "id": "view-in-github",
        "colab_type": "text"
      },
      "source": [
        "<a href=\"https://colab.research.google.com/github/harbidel/Web-Scraping/blob/main/Web_Scraping.ipynb\" target=\"_parent\"><img src=\"https://colab.research.google.com/assets/colab-badge.svg\" alt=\"Open In Colab\"/></a>"
      ]
    },
    {
      "cell_type": "code",
      "execution_count": null,
      "metadata": {
        "colab": {
          "base_uri": "https://localhost:8080/"
        },
        "id": "I-2nDm81qYhF",
        "outputId": "de9691a2-218a-4065-cb61-46afcf6c0ff1"
      },
      "outputs": [
        {
          "output_type": "stream",
          "name": "stdout",
          "text": [
            "Requirement already satisfied: requests in /usr/local/lib/python3.10/dist-packages (2.31.0)\n",
            "Requirement already satisfied: charset-normalizer<4,>=2 in /usr/local/lib/python3.10/dist-packages (from requests) (3.2.0)\n",
            "Requirement already satisfied: idna<4,>=2.5 in /usr/local/lib/python3.10/dist-packages (from requests) (3.4)\n",
            "Requirement already satisfied: urllib3<3,>=1.21.1 in /usr/local/lib/python3.10/dist-packages (from requests) (2.0.4)\n",
            "Requirement already satisfied: certifi>=2017.4.17 in /usr/local/lib/python3.10/dist-packages (from requests) (2023.7.22)\n",
            "Requirement already satisfied: beautifulsoup4 in /usr/local/lib/python3.10/dist-packages (4.11.2)\n",
            "Requirement already satisfied: soupsieve>1.2 in /usr/local/lib/python3.10/dist-packages (from beautifulsoup4) (2.5)\n"
          ]
        }
      ],
      "source": [
        "#!pip install requests\n",
        "#!pip install beautifulsoup4"
      ]
    },
    {
      "cell_type": "code",
      "source": [
        "import requests\n",
        "\n",
        "# Replace 'https://example.com' with the URL of the website you want to fetch\n",
        "url = 'https://example.com'\n",
        "\n",
        "# Send an HTTP GET request to the URL\n",
        "response = requests.get(url)\n",
        "\n",
        "# Check if the request was successful (status code 200)\n",
        "if response.status_code == 200:\n",
        "    # Access the HTML content from the response\n",
        "    html_content = response.text\n",
        "    print(html_content)\n",
        "else:\n",
        "    print(f\"Failed to fetch the website. Status code: {response.status_code}\")\n"
      ],
      "metadata": {
        "id": "-8m3R-TnuaR3"
      },
      "execution_count": null,
      "outputs": []
    },
    {
      "cell_type": "code",
      "source": [
        "from bs4 import BeautifulSoup\n",
        "\n",
        "# Parse the HTML content\n",
        "soup = BeautifulSoup(html_content, 'html.parser')\n",
        "\n",
        "# Example: Extract the text of all <a> tags\n",
        "links = soup.find_all('a')\n",
        "for link in links:\n",
        "    print(link.text)"
      ],
      "metadata": {
        "id": "hzaHvzuTu947"
      },
      "execution_count": null,
      "outputs": []
    },
    {
      "cell_type": "code",
      "source": [
        "from bs4 import BeautifulSoup\n",
        "\n",
        "# Parse the HTML content\n",
        "soup = BeautifulSoup(html_content, 'html.parser')\n",
        "\n",
        "# Find elements by class name\n",
        "elements_with_class = soup.find_all(class_='mb-5 bg-background-surface border-b-2 pb-5 instrumentOverview_overview-section__s91XI')\n",
        "\n",
        "# Loop through the found elements\n",
        "for element in elements_with_class:\n",
        "    print(element.text)\n"
      ],
      "metadata": {
        "id": "ej481lpbv4UR"
      },
      "execution_count": null,
      "outputs": []
    },
    {
      "cell_type": "code",
      "source": [
        "from bs4 import BeautifulSoup\n",
        "\n",
        "# Parse the HTML content\n",
        "soup = BeautifulSoup(html_content, 'html.parser')\n",
        "\n",
        "# Find the table with historical data\n",
        "table = soup.find('table', class_='mb-5 bg-background-surface border-b-2 pb-5 instrumentOverview_overview-section__s91XI')\n",
        "\n",
        "# Check if the table was found\n",
        "if table:\n",
        "    # Initialize empty lists to store the data\n",
        "    dates = []\n",
        "    closes = []\n",
        "    opens = []\n",
        "    highs = []\n",
        "    lows = []\n",
        "    changes = []\n",
        "    percent_changes = []\n",
        "\n",
        "    # Loop through the table rows\n",
        "    for row in table.find('tbody').find_all('tr'):\n",
        "        # Extract data from each row\n",
        "        cells = row.find_all('td')\n",
        "        if len(cells) == 7:\n",
        "            dates.append(cells[0].text.strip())\n",
        "            closes.append(cells[1].text.strip())\n",
        "            opens.append(cells[2].text.strip())\n",
        "            highs.append(cells[3].text.strip())\n",
        "            lows.append(cells[4].text.strip())\n",
        "            changes.append(cells[5].text.strip())\n",
        "            percent_changes.append(cells[6].text.strip())\n",
        "\n",
        "    # Print or process the extracted data as needed\n",
        "    for i in range(len(dates)):\n",
        "        print(f\"Date: {dates[i]}, Close: {closes[i]}, Open: {opens[i]}, High: {highs[i]}, Low: {lows[i]}, Change: {changes[i]}, Change %: {percent_changes[i]}\")\n",
        "else:\n",
        "    print(\"Table not found in the HTML content.\")\n"
      ],
      "metadata": {
        "id": "zkpPpze-w5-u"
      },
      "execution_count": null,
      "outputs": []
    },
    {
      "cell_type": "code",
      "source": [],
      "metadata": {
        "id": "oEnLm_YbvMAM"
      },
      "execution_count": null,
      "outputs": []
    }
  ]
}